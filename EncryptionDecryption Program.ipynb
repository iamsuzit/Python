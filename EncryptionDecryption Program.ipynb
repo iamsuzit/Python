{
 "cells": [
  {
   "cell_type": "markdown",
   "id": "546e4aa1",
   "metadata": {},
   "source": [
    "# EncryptionDecryption Program using functions"
   ]
  },
  {
   "cell_type": "code",
   "execution_count": 57,
   "id": "7f324434",
   "metadata": {},
   "outputs": [
    {
     "name": "stdout",
     "output_type": "stream",
     "text": [
      "Type 'encode' to encrypt, type 'decode' to decrypt:\n",
      "decode\n",
      "Type your message:\n",
      "mjqqt\n",
      "Type the shift number:\n",
      "5\n",
      "The encoded text is hello\n"
     ]
    }
   ],
   "source": [
    "alphabet = ['a', 'b', 'c', 'd', 'e', 'f', 'g', 'h', 'i', 'j', 'k', 'l', 'm', 'n', 'o',\n",
    "            'p', 'q', 'r', 's', 't', 'u', 'v', 'w', 'x', 'y', 'z']\n",
    "\n",
    "direction = input(\"Type 'encode' to encrypt, type 'decode' to decrypt:\\n\")\n",
    "text = input(\"Type your message:\\n\").lower() \n",
    "shift = int(input(\"Type the shift number:\\n\"))\n",
    "\n",
    "def encrypt(plain_text, plain_move):\n",
    "    cipher_text = \"\"\n",
    "    for char in plain_text:  \n",
    "        position = alphabet.index(char)\n",
    "        cipher_text += alphabet[position + plain_move]\n",
    "    print(f\"The encoded text is {cipher_text}\")\n",
    "            \n",
    "def decrypt(cipher_text, cipher_move):\n",
    "    decipher_text = \"\"\n",
    "    for char in cipher_text:\n",
    "        position = alphabet.index(char)\n",
    "        decipher_text += alphabet[position - cipher_move]\n",
    "    print(f\"The encoded text is {decipher_text}\")\n",
    "        \n",
    "if direction == \"encode\":\n",
    "    encrypt(plain_text=text, plain_move=shift)\n",
    "else:\n",
    "    decrypt(cipher_text=text, cipher_move=shift)"
   ]
  },
  {
   "cell_type": "code",
   "execution_count": 19,
   "id": "234cde7f",
   "metadata": {
    "scrolled": false
   },
   "outputs": [
    {
     "name": "stdout",
     "output_type": "stream",
     "text": [
      "Type 'encode' to encrypt, type 'decode' to decrypt:\n",
      "encode\n",
      "Type your message:\n",
      "hello how are you\n",
      "Type the shift number:\n",
      "45\n",
      "the encoded text is axeeh ahp tkx rhn\n",
      "Would you like to go again? Yes or No: yes\n",
      "Type 'encode' to encrypt, type 'decode' to decrypt:\n",
      "decode\n",
      "Type your message:\n",
      "axeeh ahp tkx rhn\n",
      "Type the shift number:\n",
      "45\n",
      "the decoded text is hello how are you\n",
      "Would you like to go again? Yes or No: No\n"
     ]
    }
   ],
   "source": [
    "# put the above code into one function\n",
    "alphabet = ['a', 'b', 'c', 'd', 'e', 'f', 'g', 'h', 'i', 'j', 'k', 'l', 'm', 'n', 'o', \n",
    "            'p', 'q', 'r', 's', 't', 'u', 'v', 'w', 'x', 'y', 'z', 'a', 'b', 'c', 'd', \n",
    "            'e', 'f', 'g', 'h', 'i', 'j', 'k', 'l', 'm', 'n', 'o', \n",
    "            'p', 'q', 'r', 's', 't', 'u', 'v', 'w', 'x', 'y', 'z']\n",
    "\n",
    "def caesar(user_msg, move, cipher_dir):\n",
    "    output_text = \"\"\n",
    "    if cipher_dir == \"decode\":\n",
    "        move *= -1\n",
    "    for char in user_msg:\n",
    "        if char in alphabet:\n",
    "            position = alphabet.index(char)\n",
    "            remainder = move % 26\n",
    "            new_position = position + remainder\n",
    "            output_text += alphabet[new_position]\n",
    "        else:\n",
    "            output_text += char\n",
    "    print(f\"the {cipher_dir}d text is {output_text}\")\n",
    "\n",
    "user_tryInput = True\n",
    "while user_tryInput:\n",
    "    direction = input(\"Type 'encode' to encrypt, type 'decode' to decrypt:\\n\")\n",
    "    text = input(\"Type your message:\\n\").lower() \n",
    "    shift = int(input(\"Type the shift number:\\n\"))\n",
    "    caesar(user_msg=text, move=shift, cipher_dir=direction)\n",
    "    user_tryInput = input(\"Would you like to go again? Yes or No: \").lower()\n",
    "    if user_tryInput == \"no\":\n",
    "        break\n"
   ]
  },
  {
   "cell_type": "code",
   "execution_count": null,
   "id": "d891a05d",
   "metadata": {},
   "outputs": [],
   "source": []
  }
 ],
 "metadata": {
  "kernelspec": {
   "display_name": "Python 3 (ipykernel)",
   "language": "python",
   "name": "python3"
  },
  "language_info": {
   "codemirror_mode": {
    "name": "ipython",
    "version": 3
   },
   "file_extension": ".py",
   "mimetype": "text/x-python",
   "name": "python",
   "nbconvert_exporter": "python",
   "pygments_lexer": "ipython3",
   "version": "3.9.7"
  }
 },
 "nbformat": 4,
 "nbformat_minor": 5
}
