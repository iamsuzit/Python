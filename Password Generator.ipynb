{
  "nbformat": 4,
  "nbformat_minor": 0,
  "metadata": {
    "colab": {
      "name": "Password Generator.ipynb",
      "provenance": [],
      "authorship_tag": "ABX9TyMipPcLWCc6/PkX9UrPtOxv",
      "include_colab_link": true
    },
    "kernelspec": {
      "name": "python3",
      "display_name": "Python 3"
    },
    "language_info": {
      "name": "python"
    }
  },
  "cells": [
    {
      "cell_type": "markdown",
      "metadata": {
        "id": "view-in-github",
        "colab_type": "text"
      },
      "source": [
        "<a href=\"https://colab.research.google.com/github/iamsuzit/Python/blob/main/Password%20Generator.ipynb\" target=\"_parent\"><img src=\"https://colab.research.google.com/assets/colab-badge.svg\" alt=\"Open In Colab\"/></a>"
      ]
    },
    {
      "cell_type": "code",
      "metadata": {
        "colab": {
          "base_uri": "https://localhost:8080/"
        },
        "id": "9jznAui-MWyh",
        "outputId": "bbaa07c0-59fb-4238-fc80-55335cc4c4c2"
      },
      "source": [
        "#Password Generator Project\n",
        "import random\n",
        "letters = ['a', 'b', 'c', 'd', 'e', 'f', 'g', 'h', 'i', 'j', 'k', 'l', 'm', 'n', 'o', 'p', 'q', 'r', 's', 't', 'u', 'v', 'w', 'x', 'y', 'z', 'A', 'B', 'C', 'D', 'E', 'F', 'G', 'H', 'I', 'J', 'K', 'L', 'M', 'N', 'O', 'P', 'Q', 'R', 'S', 'T', 'U', 'V', 'W', 'X', 'Y', 'Z']\n",
        "numbers = ['0', '1', '2', '3', '4', '5', '6', '7', '8', '9']\n",
        "symbols = ['!', '#', '$', '%', '&', '(', ')', '*', '+']\n",
        "\n",
        "print(\"Welcome to the Password Generator!\")\n",
        "nr_letters= int(input(\"How many letters would you like in your password?\\n\")) \n",
        "nr_symbols = int(input(f\"How many symbols would you like?\\n\"))\n",
        "nr_numbers = int(input(f\"How many numbers would you like?\\n\"))\n",
        "\n",
        "#Eazy Level - Order not randomised:\n",
        "#e.g. 4 letter, 2 symbol, 2 number = JduE&!91\n",
        "password = \"\"\n",
        "for char in range(1, nr_letters + 1):\n",
        "  password = password + random.choice(letters)\n",
        "\n",
        "for sym in range(1, nr_letters + 1):\n",
        "  password = password + random.choice(symbols)\n",
        "\n",
        "for num in range(1, nr_letters + 1):\n",
        "  password = password + random.choice(numbers)\n",
        "\n",
        "print(password)"
      ],
      "execution_count": 29,
      "outputs": [
        {
          "output_type": "stream",
          "text": [
            "Welcome to the Password Generator!\n",
            "How many letters would you like in your password?\n",
            "4\n",
            "How many symbols would you like?\n",
            "4\n",
            "How many numbers would you like?\n",
            "4\n",
            "JpNB%)+&8618\n"
          ],
          "name": "stdout"
        }
      ]
    },
    {
      "cell_type": "code",
      "metadata": {
        "colab": {
          "base_uri": "https://localhost:8080/"
        },
        "id": "qhEAqLR41r-A",
        "outputId": "b09bb994-59c0-48db-bb9b-2ed8c140e65d"
      },
      "source": [
        "#Password Generator Project\n",
        "import random\n",
        "letters = ['a', 'b', 'c', 'd', 'e', 'f', 'g', 'h', 'i', 'j', 'k', 'l', 'm', 'n', 'o', 'p', 'q', 'r', 's', 't', 'u', 'v', 'w', 'x', 'y', 'z', 'A', 'B', 'C', 'D', 'E', 'F', 'G', 'H', 'I', 'J', 'K', 'L', 'M', 'N', 'O', 'P', 'Q', 'R', 'S', 'T', 'U', 'V', 'W', 'X', 'Y', 'Z']\n",
        "numbers = ['0', '1', '2', '3', '4', '5', '6', '7', '8', '9']\n",
        "symbols = ['!', '#', '$', '%', '&', '(', ')', '*', '+']\n",
        "\n",
        "print(\"Welcome to the Password Generator!\")\n",
        "nr_letters= int(input(\"How many letters would you like in your password?\\n\")) \n",
        "nr_symbols = int(input(f\"How many symbols would you like?\\n\"))\n",
        "nr_numbers = int(input(f\"How many numbers would you like?\\n\"))\n",
        "\n",
        "#Hard Level - Order of characters randomised:\n",
        "#e.g. 4 letter, 2 symbol, 2 number = g^2jk8&P\n",
        "\n",
        "password = []\n",
        "for char in range(1, nr_letters + 1):\n",
        "  password.append(random.choice(letters))\n",
        "\n",
        "for sym in range(1, nr_letters + 1):\n",
        "  password.append(random.choice(symbols))\n",
        "\n",
        "for num in range(1, nr_letters + 1):\n",
        "  password.append(random.choice(numbers))\n",
        "\n",
        "random.shuffle(password)\n",
        "\n",
        "final_pass = \"\"\n",
        "for x in password:\n",
        "  final_pass = final_pass + x\n",
        "print(f\"Your password is\", final_pass)\n",
        "\n",
        "#another way to print instead of for loop print(\"\".join(password)) \n"
      ],
      "execution_count": 42,
      "outputs": [
        {
          "output_type": "stream",
          "text": [
            "Welcome to the Password Generator!\n",
            "How many letters would you like in your password?\n",
            "3\n",
            "How many symbols would you like?\n",
            "4\n",
            "How many numbers would you like?\n",
            "2\n",
            "Your password is !4*+J22mS\n"
          ],
          "name": "stdout"
        }
      ]
    }
  ]
}