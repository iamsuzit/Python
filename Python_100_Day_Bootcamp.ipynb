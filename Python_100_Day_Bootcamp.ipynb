{
  "nbformat": 4,
  "nbformat_minor": 0,
  "metadata": {
    "colab": {
      "name": "Python 100 day Bootcamp.ipynb",
      "provenance": [],
      "authorship_tag": "ABX9TyM5JDQzIRYS2J18eNL8pmam",
      "include_colab_link": true
    },
    "kernelspec": {
      "name": "python3",
      "display_name": "Python 3"
    },
    "language_info": {
      "name": "python"
    }
  },
  "cells": [
    {
      "cell_type": "markdown",
      "metadata": {
        "id": "view-in-github",
        "colab_type": "text"
      },
      "source": [
        "<a href=\"https://colab.research.google.com/github/iamsuzit/Python/blob/main/Python_100_Day_Bootcamp.ipynb\" target=\"_parent\"><img src=\"https://colab.research.google.com/assets/colab-badge.svg\" alt=\"Open In Colab\"/></a>"
      ]
    },
    {
      "cell_type": "markdown",
      "metadata": {
        "id": "SxPwWtOLVQmF"
      },
      "source": [
        "**Python Modules**"
      ]
    },
    {
      "cell_type": "markdown",
      "metadata": {
        "id": "-sHmj6U2Vc7s"
      },
      "source": [
        "Day 1-3: Control Flow and Logical Operators\n"
      ]
    },
    {
      "cell_type": "code",
      "metadata": {
        "id": "vgqpmP8HVbVQ"
      },
      "source": [
        ""
      ],
      "execution_count": null,
      "outputs": []
    }
  ]
}